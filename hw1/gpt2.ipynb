{
 "cells": [
  {
   "cell_type": "code",
   "execution_count": 1,
   "id": "392adb2e",
   "metadata": {},
   "outputs": [
    {
     "name": "stdout",
     "output_type": "stream",
     "text": [
      "Defaulting to user installation because normal site-packages is not writeable\n",
      "Requirement already satisfied: transformers in /afs/cs.wisc.edu/u/r/i/riyad/.local/lib/python3.10/site-packages (4.56.2)\n",
      "Requirement already satisfied: torch in /afs/cs.wisc.edu/u/r/i/riyad/.local/lib/python3.10/site-packages (2.5.1)\n",
      "Requirement already satisfied: tokenizers<=0.23.0,>=0.22.0 in /afs/cs.wisc.edu/u/r/i/riyad/.local/lib/python3.10/site-packages (from transformers) (0.22.1)\n",
      "Requirement already satisfied: safetensors>=0.4.3 in /afs/cs.wisc.edu/u/r/i/riyad/.local/lib/python3.10/site-packages (from transformers) (0.4.5)\n",
      "Requirement already satisfied: huggingface-hub<1.0,>=0.34.0 in /afs/cs.wisc.edu/u/r/i/riyad/.local/lib/python3.10/site-packages (from transformers) (0.35.1)\n",
      "Requirement already satisfied: numpy>=1.17 in /usr/lib/python3/dist-packages (from transformers) (1.21.5)\n",
      "Requirement already satisfied: tqdm>=4.27 in /afs/cs.wisc.edu/u/r/i/riyad/.local/lib/python3.10/site-packages (from transformers) (4.66.6)\n",
      "Requirement already satisfied: regex!=2019.12.17 in /afs/cs.wisc.edu/u/r/i/riyad/.local/lib/python3.10/site-packages (from transformers) (2024.9.11)\n",
      "Requirement already satisfied: requests in /afs/cs.wisc.edu/u/r/i/riyad/.local/lib/python3.10/site-packages (from transformers) (2.32.3)\n",
      "Requirement already satisfied: pyyaml>=5.1 in /usr/lib/python3/dist-packages (from transformers) (5.4.1)\n",
      "Requirement already satisfied: packaging>=20.0 in /afs/cs.wisc.edu/u/r/i/riyad/.local/lib/python3.10/site-packages (from transformers) (25.0)\n",
      "Requirement already satisfied: filelock in /afs/cs.wisc.edu/u/r/i/riyad/.local/lib/python3.10/site-packages (from transformers) (3.0.12)\n",
      "Requirement already satisfied: nvidia-cusparse-cu12==12.3.1.170 in /afs/cs.wisc.edu/u/r/i/riyad/.local/lib/python3.10/site-packages (from torch) (12.3.1.170)\n",
      "Requirement already satisfied: fsspec in /afs/cs.wisc.edu/u/r/i/riyad/.local/lib/python3.10/site-packages (from torch) (2024.9.0)\n",
      "Requirement already satisfied: typing-extensions>=4.8.0 in /afs/cs.wisc.edu/u/r/i/riyad/.local/lib/python3.10/site-packages (from torch) (4.12.2)\n",
      "Requirement already satisfied: nvidia-nvtx-cu12==12.4.127 in /afs/cs.wisc.edu/u/r/i/riyad/.local/lib/python3.10/site-packages (from torch) (12.4.127)\n",
      "Requirement already satisfied: jinja2 in /usr/lib/python3/dist-packages (from torch) (3.0.3)\n",
      "Requirement already satisfied: sympy==1.13.1 in /afs/cs.wisc.edu/u/r/i/riyad/.local/lib/python3.10/site-packages (from torch) (1.13.1)\n",
      "Requirement already satisfied: nvidia-cublas-cu12==12.4.5.8 in /afs/cs.wisc.edu/u/r/i/riyad/.local/lib/python3.10/site-packages (from torch) (12.4.5.8)\n",
      "Requirement already satisfied: nvidia-cuda-cupti-cu12==12.4.127 in /afs/cs.wisc.edu/u/r/i/riyad/.local/lib/python3.10/site-packages (from torch) (12.4.127)\n",
      "Requirement already satisfied: triton==3.1.0 in /afs/cs.wisc.edu/u/r/i/riyad/.local/lib/python3.10/site-packages (from torch) (3.1.0)\n",
      "Requirement already satisfied: nvidia-cudnn-cu12==9.1.0.70 in /afs/cs.wisc.edu/u/r/i/riyad/.local/lib/python3.10/site-packages (from torch) (9.1.0.70)\n",
      "Requirement already satisfied: nvidia-cuda-runtime-cu12==12.4.127 in /afs/cs.wisc.edu/u/r/i/riyad/.local/lib/python3.10/site-packages (from torch) (12.4.127)\n",
      "Requirement already satisfied: nvidia-cusolver-cu12==11.6.1.9 in /afs/cs.wisc.edu/u/r/i/riyad/.local/lib/python3.10/site-packages (from torch) (11.6.1.9)\n",
      "Requirement already satisfied: nvidia-cufft-cu12==11.2.1.3 in /afs/cs.wisc.edu/u/r/i/riyad/.local/lib/python3.10/site-packages (from torch) (11.2.1.3)\n",
      "Requirement already satisfied: networkx in /afs/cs.wisc.edu/u/r/i/riyad/.local/lib/python3.10/site-packages (from torch) (3.4.2)\n",
      "Requirement already satisfied: nvidia-cuda-nvrtc-cu12==12.4.127 in /afs/cs.wisc.edu/u/r/i/riyad/.local/lib/python3.10/site-packages (from torch) (12.4.127)\n",
      "Requirement already satisfied: nvidia-curand-cu12==10.3.5.147 in /afs/cs.wisc.edu/u/r/i/riyad/.local/lib/python3.10/site-packages (from torch) (10.3.5.147)\n",
      "Requirement already satisfied: nvidia-nvjitlink-cu12==12.4.127 in /afs/cs.wisc.edu/u/r/i/riyad/.local/lib/python3.10/site-packages (from torch) (12.4.127)\n",
      "Requirement already satisfied: nvidia-nccl-cu12==2.21.5 in /afs/cs.wisc.edu/u/r/i/riyad/.local/lib/python3.10/site-packages (from torch) (2.21.5)\n",
      "Requirement already satisfied: mpmath<1.4,>=1.1.0 in /afs/cs.wisc.edu/u/r/i/riyad/.local/lib/python3.10/site-packages (from sympy==1.13.1->torch) (1.3.0)\n",
      "Requirement already satisfied: hf-xet<2.0.0,>=1.1.3 in /afs/cs.wisc.edu/u/r/i/riyad/.local/lib/python3.10/site-packages (from huggingface-hub<1.0,>=0.34.0->transformers) (1.1.10)\n",
      "Requirement already satisfied: charset-normalizer<4,>=2 in /afs/cs.wisc.edu/u/r/i/riyad/.local/lib/python3.10/site-packages (from requests->transformers) (3.4.0)\n",
      "Requirement already satisfied: idna<4,>=2.5 in /usr/lib/python3/dist-packages (from requests->transformers) (3.3)\n",
      "Requirement already satisfied: urllib3<3,>=1.21.1 in /usr/lib/python3/dist-packages (from requests->transformers) (1.26.5)\n",
      "Requirement already satisfied: certifi>=2017.4.17 in /usr/lib/python3/dist-packages (from requests->transformers) (2020.6.20)\n"
     ]
    }
   ],
   "source": [
    "!pip install transformers torch"
   ]
  },
  {
   "cell_type": "code",
   "execution_count": 2,
   "id": "46be3989",
   "metadata": {},
   "outputs": [
    {
     "name": "stderr",
     "output_type": "stream",
     "text": [
      "/u/r/i/riyad/.local/lib/python3.10/site-packages/tqdm/auto.py:21: TqdmWarning: IProgress not found. Please update jupyter and ipywidgets. See https://ipywidgets.readthedocs.io/en/stable/user_install.html\n",
      "  from .autonotebook import tqdm as notebook_tqdm\n"
     ]
    }
   ],
   "source": [
    "from transformers import GPT2Model\n",
    "model = GPT2Model.from_pretrained('gpt2')"
   ]
  },
  {
   "cell_type": "code",
   "execution_count": 3,
   "id": "a20edca7",
   "metadata": {},
   "outputs": [
    {
     "name": "stdout",
     "output_type": "stream",
     "text": [
      "GPT2Model(\n",
      "  (wte): Embedding(50257, 768)\n",
      "  (wpe): Embedding(1024, 768)\n",
      "  (drop): Dropout(p=0.1, inplace=False)\n",
      "  (h): ModuleList(\n",
      "    (0-11): 12 x GPT2Block(\n",
      "      (ln_1): LayerNorm((768,), eps=1e-05, elementwise_affine=True)\n",
      "      (attn): GPT2Attention(\n",
      "        (c_attn): Conv1D(nf=2304, nx=768)\n",
      "        (c_proj): Conv1D(nf=768, nx=768)\n",
      "        (attn_dropout): Dropout(p=0.1, inplace=False)\n",
      "        (resid_dropout): Dropout(p=0.1, inplace=False)\n",
      "      )\n",
      "      (ln_2): LayerNorm((768,), eps=1e-05, elementwise_affine=True)\n",
      "      (mlp): GPT2MLP(\n",
      "        (c_fc): Conv1D(nf=3072, nx=768)\n",
      "        (c_proj): Conv1D(nf=768, nx=3072)\n",
      "        (act): NewGELUActivation()\n",
      "        (dropout): Dropout(p=0.1, inplace=False)\n",
      "      )\n",
      "    )\n",
      "  )\n",
      "  (ln_f): LayerNorm((768,), eps=1e-05, elementwise_affine=True)\n",
      ")\n",
      "Total # of params: 124.44M\n"
     ]
    }
   ],
   "source": [
    "def count_params(model, ishuman=True):\n",
    "    params = sum( p.numel() for p in model.parameters() if p.requires_grad)\n",
    "    return f\"{params/1e6:.2f}M\" if ishuman else params\n",
    "\n",
    "print(model)\n",
    "print(\"Total # of params:\", count_params(model, ishuman=True))"
   ]
  },
  {
   "cell_type": "code",
   "execution_count": 4,
   "id": "85dcadae",
   "metadata": {},
   "outputs": [
    {
     "name": "stdout",
     "output_type": "stream",
     "text": [
      "wte | 38597376\n",
      "wpe | 786432\n",
      "38597376\n",
      "786432\n"
     ]
    }
   ],
   "source": [
    "print(f\"wte | {model.config.vocab_size * 768}\") # V * E\n",
    "print(f\"wpe | {model.config.n_embd * 1024}\") # P * E\n",
    "\n",
    "print(f\"{count_params(model._modules['wte'],False)}\")\n",
    "\n",
    "print(f\"{count_params(model._modules['wpe'],False)}\")"
   ]
  },
  {
   "cell_type": "code",
   "execution_count": null,
   "id": "0c5ba599",
   "metadata": {},
   "outputs": [],
   "source": [
    "# the size of parameter the layer normalization = the embedding dimension with beta and gama addded (2*Embedding)"
   ]
  },
  {
   "cell_type": "code",
   "execution_count": null,
   "id": "525e2f43",
   "metadata": {},
   "outputs": [
    {
     "name": "stdout",
     "output_type": "stream",
     "text": [
      "Qwen3Config {\n",
      "  \"architectures\": [\n",
      "    \"Qwen3ForCausalLM\"\n",
      "  ],\n",
      "  \"attention_bias\": false,\n",
      "  \"attention_dropout\": 0.0,\n",
      "  \"bos_token_id\": 151643,\n",
      "  \"dtype\": \"bfloat16\",\n",
      "  \"eos_token_id\": 151645,\n",
      "  \"head_dim\": 128,\n",
      "  \"hidden_act\": \"silu\",\n",
      "  \"hidden_size\": 4096,\n",
      "  \"initializer_range\": 0.02,\n",
      "  \"intermediate_size\": 12288,\n",
      "  \"layer_types\": [\n",
      "    \"full_attention\",\n",
      "    \"full_attention\",\n",
      "    \"full_attention\",\n",
      "    \"full_attention\",\n",
      "    \"full_attention\",\n",
      "    \"full_attention\",\n",
      "    \"full_attention\",\n",
      "    \"full_attention\",\n",
      "    \"full_attention\",\n",
      "    \"full_attention\",\n",
      "    \"full_attention\",\n",
      "    \"full_attention\",\n",
      "    \"full_attention\",\n",
      "    \"full_attention\",\n",
      "    \"full_attention\",\n",
      "    \"full_attention\",\n",
      "    \"full_attention\",\n",
      "    \"full_attention\",\n",
      "    \"full_attention\",\n",
      "    \"full_attention\",\n",
      "    \"full_attention\",\n",
      "    \"full_attention\",\n",
      "    \"full_attention\",\n",
      "    \"full_attention\",\n",
      "    \"full_attention\",\n",
      "    \"full_attention\",\n",
      "    \"full_attention\",\n",
      "    \"full_attention\",\n",
      "    \"full_attention\",\n",
      "    \"full_attention\",\n",
      "    \"full_attention\",\n",
      "    \"full_attention\",\n",
      "    \"full_attention\",\n",
      "    \"full_attention\",\n",
      "    \"full_attention\",\n",
      "    \"full_attention\"\n",
      "  ],\n",
      "  \"max_position_embeddings\": 40960,\n",
      "  \"max_window_layers\": 36,\n",
      "  \"model_type\": \"qwen3\",\n",
      "  \"num_attention_heads\": 32,\n",
      "  \"num_hidden_layers\": 36,\n",
      "  \"num_key_value_heads\": 8,\n",
      "  \"rms_norm_eps\": 1e-06,\n",
      "  \"rope_scaling\": null,\n",
      "  \"rope_theta\": 1000000,\n",
      "  \"sliding_window\": null,\n",
      "  \"tie_word_embeddings\": false,\n",
      "  \"transformers_version\": \"4.56.2\",\n",
      "  \"use_cache\": true,\n",
      "  \"use_sliding_window\": false,\n",
      "  \"vocab_size\": 151936\n",
      "}\n",
      "\n"
     ]
    }
   ],
   "source": [
    "from transformers import AutoConfig, Qwen3Model, Qwen3Config\n",
    "\n",
    "config = AutoConfig.from_pretrained(\"Qwen/Qwen3-8B\")\n",
    "\n",
    "model = Qwen3Model(config)\n",
    "\n",
    "configuration = model.config\n",
    "print(config)\n",
    "\n"
   ]
  },
  {
   "cell_type": "code",
   "execution_count": 44,
   "id": "52cb43d3",
   "metadata": {},
   "outputs": [],
   "source": [
    "E = config.hidden_size\n",
    "H = config.intermediate_size\n",
    "V= config.vocab_size\n",
    "L = config.num_hidden_layers\n",
    "P = config.max_position_embeddings"
   ]
  },
  {
   "cell_type": "code",
   "execution_count": 5,
   "id": "63f6ff96",
   "metadata": {},
   "outputs": [
    {
     "name": "stdout",
     "output_type": "stream",
     "text": [
      "Qwen3Model(\n",
      "  (embed_tokens): Embedding(151936, 4096)\n",
      "  (layers): ModuleList(\n",
      "    (0-35): 36 x Qwen3DecoderLayer(\n",
      "      (self_attn): Qwen3Attention(\n",
      "        (q_proj): Linear(in_features=4096, out_features=4096, bias=False)\n",
      "        (k_proj): Linear(in_features=4096, out_features=1024, bias=False)\n",
      "        (v_proj): Linear(in_features=4096, out_features=1024, bias=False)\n",
      "        (o_proj): Linear(in_features=4096, out_features=4096, bias=False)\n",
      "        (q_norm): Qwen3RMSNorm((128,), eps=1e-06)\n",
      "        (k_norm): Qwen3RMSNorm((128,), eps=1e-06)\n",
      "      )\n",
      "      (mlp): Qwen3MLP(\n",
      "        (gate_proj): Linear(in_features=4096, out_features=12288, bias=False)\n",
      "        (up_proj): Linear(in_features=4096, out_features=12288, bias=False)\n",
      "        (down_proj): Linear(in_features=12288, out_features=4096, bias=False)\n",
      "        (act_fn): SiLU()\n",
      "      )\n",
      "      (input_layernorm): Qwen3RMSNorm((4096,), eps=1e-06)\n",
      "      (post_attention_layernorm): Qwen3RMSNorm((4096,), eps=1e-06)\n",
      "    )\n",
      "  )\n",
      "  (norm): Qwen3RMSNorm((4096,), eps=1e-06)\n",
      "  (rotary_emb): Qwen3RotaryEmbedding()\n",
      ")\n"
     ]
    }
   ],
   "source": [
    "print(model)"
   ]
  },
  {
   "cell_type": "markdown",
   "id": "9745753c",
   "metadata": {},
   "source": [
    "Parameter Count"
   ]
  },
  {
   "cell_type": "code",
   "execution_count": 6,
   "id": "f9ec0832",
   "metadata": {},
   "outputs": [
    {
     "data": {
      "text/plain": [
       "'7568.41M'"
      ]
     },
     "execution_count": 6,
     "metadata": {},
     "output_type": "execute_result"
    }
   ],
   "source": [
    "count_params(model, ishuman=True)"
   ]
  },
  {
   "cell_type": "markdown",
   "id": "56967848",
   "metadata": {},
   "source": [
    "Layer by Layer Parameter Count"
   ]
  },
  {
   "cell_type": "code",
   "execution_count": null,
   "id": "cc6a0c24",
   "metadata": {},
   "outputs": [
    {
     "name": "stdout",
     "output_type": "stream",
     "text": [
      "Vocab size (V): 151936 Embedding size (E): 4096 Max Position Embeddings (P): 40960\n"
     ]
    }
   ],
   "source": [
    "V = config.vocab_size\n",
    "E = config.hidden_size\n",
    "P= config.max_position_embeddings\n",
    "L = config.num_hidden_layers\n",
    "print(f\"Vocab size (V): {V} Embedding size (E): {E} Max Position Embeddings (P): {P}\")"
   ]
  },
  {
   "cell_type": "markdown",
   "id": "4014630e",
   "metadata": {},
   "source": [
    "### Embedding Layers \n",
    "we've only one Embedding layer"
   ]
  },
  {
   "cell_type": "code",
   "execution_count": 9,
   "id": "99eed564",
   "metadata": {},
   "outputs": [],
   "source": [
    "E = config.hidden_size"
   ]
  },
  {
   "cell_type": "code",
   "execution_count": 11,
   "id": "fea7ceea",
   "metadata": {},
   "outputs": [
    {
     "name": "stdout",
     "output_type": "stream",
     "text": [
      "622.33M\n"
     ]
    }
   ],
   "source": [
    "print(count_params(model._modules['embed_tokens']))"
   ]
  },
  {
   "cell_type": "code",
   "execution_count": null,
   "id": "f595068b",
   "metadata": {},
   "outputs": [
    {
     "name": "stdout",
     "output_type": "stream",
     "text": [
      "Expected 622329856\n"
     ]
    }
   ],
   "source": [
    "Embedding_tokens = E * V\n",
    "print('Expected',Embedding_tokens)"
   ]
  },
  {
   "cell_type": "markdown",
   "id": "e705f200",
   "metadata": {},
   "source": [
    "### Self Attention"
   ]
  },
  {
   "cell_type": "markdown",
   "id": "d405de41",
   "metadata": {},
   "source": [
    "Qwen3 uses group-query attention (GQA) q_proj and o_proj are full E X E matrices \n",
    "\n",
    "but k_proj, v_proj are only E x E/h_qkv_ratio"
   ]
  },
  {
   "cell_type": "code",
   "execution_count": 32,
   "id": "82d78721",
   "metadata": {},
   "outputs": [],
   "source": [
    "self_attn = E * E + E * E/4 + E * E/ 4 + E*E"
   ]
  },
  {
   "cell_type": "code",
   "execution_count": 33,
   "id": "5d2cafc0",
   "metadata": {},
   "outputs": [
    {
     "name": "stdout",
     "output_type": "stream",
     "text": [
      "Expected self attention: 41943040.0\n"
     ]
    }
   ],
   "source": [
    "print(\"Expected self attention:\",self_attn)"
   ]
  },
  {
   "cell_type": "code",
   "execution_count": 34,
   "id": "a3368812",
   "metadata": {},
   "outputs": [
    {
     "name": "stdout",
     "output_type": "stream",
     "text": [
      "Actual 41.94M\n"
     ]
    }
   ],
   "source": [
    "print(\"Actual\",count_params(model._modules['layers'][0].self_attn))"
   ]
  },
  {
   "cell_type": "markdown",
   "id": "e10768f9",
   "metadata": {},
   "source": [
    "### MLP"
   ]
  },
  {
   "cell_type": "code",
   "execution_count": 37,
   "id": "ffdf2572",
   "metadata": {},
   "outputs": [],
   "source": [
    "\n",
    "intermidate_size = config.intermediate_size\n",
    "gated_proj = E * intermidate_size\n",
    "up_proj = E * intermidate_size\n",
    "down_proj = intermidate_size * E\n",
    "\n",
    "mlp = gated_proj + up_proj + down_proj"
   ]
  },
  {
   "cell_type": "code",
   "execution_count": 38,
   "id": "71b61ca9",
   "metadata": {},
   "outputs": [
    {
     "name": "stdout",
     "output_type": "stream",
     "text": [
      "MLP Expected: 150994944\n"
     ]
    }
   ],
   "source": [
    "print(\"MLP Expected:\",mlp)"
   ]
  },
  {
   "cell_type": "code",
   "execution_count": 39,
   "id": "6cdc2c48",
   "metadata": {},
   "outputs": [
    {
     "name": "stdout",
     "output_type": "stream",
     "text": [
      "Actual 150.99M\n"
     ]
    }
   ],
   "source": [
    "print(\"Actual\",count_params(model._modules['layers'][0].mlp))"
   ]
  },
  {
   "cell_type": "markdown",
   "id": "0fd4eaa2",
   "metadata": {},
   "source": [
    "### LayerNorms"
   ]
  },
  {
   "cell_type": "code",
   "execution_count": 18,
   "id": "1ad2cbed",
   "metadata": {},
   "outputs": [
    {
     "name": "stdout",
     "output_type": "stream",
     "text": [
      "0.00M\n"
     ]
    }
   ],
   "source": [
    "print(count_params(model._modules['layers'][0].input_layernorm))"
   ]
  },
  {
   "cell_type": "code",
   "execution_count": 21,
   "id": "e61d6798",
   "metadata": {},
   "outputs": [
    {
     "name": "stdout",
     "output_type": "stream",
     "text": [
      "0.00M\n"
     ]
    }
   ],
   "source": [
    "print(count_params(model._modules['layers'][0].post_attention_layernorm))"
   ]
  },
  {
   "cell_type": "code",
   "execution_count": 24,
   "id": "cd139e36",
   "metadata": {},
   "outputs": [
    {
     "name": "stdout",
     "output_type": "stream",
     "text": [
      "0.00M\n"
     ]
    }
   ],
   "source": [
    "print(count_params(model._modules['norm']))"
   ]
  },
  {
   "cell_type": "code",
   "execution_count": 40,
   "id": "8712c34d",
   "metadata": {},
   "outputs": [
    {
     "name": "stdout",
     "output_type": "stream",
     "text": [
      "0.00M\n"
     ]
    }
   ],
   "source": [
    "print(count_params(model._modules['rotary_emb']))"
   ]
  },
  {
   "cell_type": "code",
   "execution_count": 45,
   "id": "2cf2a4af",
   "metadata": {},
   "outputs": [],
   "source": [
    "Total = Embedding_tokens + L * (self_attn + mlp)"
   ]
  },
  {
   "cell_type": "code",
   "execution_count": 46,
   "id": "4d54e62a",
   "metadata": {},
   "outputs": [
    {
     "name": "stdout",
     "output_type": "stream",
     "text": [
      "Expected Total: 7568097280.0\n"
     ]
    }
   ],
   "source": [
    "print(\"Expected Total:\", Total)"
   ]
  },
  {
   "cell_type": "code",
   "execution_count": 47,
   "id": "e82eec7a",
   "metadata": {},
   "outputs": [
    {
     "name": "stdout",
     "output_type": "stream",
     "text": [
      "Actual Toatal: 7568405504\n"
     ]
    }
   ],
   "source": [
    "print(\"Actual Toatal:\",count_params(model, ishuman=False))"
   ]
  },
  {
   "cell_type": "code",
   "execution_count": null,
   "id": "cdc81cd5",
   "metadata": {},
   "outputs": [],
   "source": []
  }
 ],
 "metadata": {
  "kernelspec": {
   "display_name": "conda_base",
   "language": "python",
   "name": "base"
  },
  "language_info": {
   "codemirror_mode": {
    "name": "ipython",
    "version": 3
   },
   "file_extension": ".py",
   "mimetype": "text/x-python",
   "name": "python",
   "nbconvert_exporter": "python",
   "pygments_lexer": "ipython3",
   "version": "3.10.12"
  }
 },
 "nbformat": 4,
 "nbformat_minor": 5
}
